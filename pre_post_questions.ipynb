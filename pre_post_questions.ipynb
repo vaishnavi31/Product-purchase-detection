{
 "cells": [
  {
   "cell_type": "code",
   "execution_count": 52,
   "id": "14f946a5-b17a-410d-8c95-8eacbf858b9a",
   "metadata": {
    "tags": []
   },
   "outputs": [
    {
     "name": "stderr",
     "output_type": "stream",
     "text": [
      "[nltk_data] Downloading package stopwords to\n",
      "[nltk_data]     /home/ec2-user/nltk_data...\n",
      "[nltk_data]   Package stopwords is already up-to-date!\n",
      "[nltk_data] Downloading package wordnet to /home/ec2-user/nltk_data...\n",
      "[nltk_data]   Package wordnet is already up-to-date!\n",
      "[nltk_data] Downloading package punkt to /home/ec2-user/nltk_data...\n",
      "[nltk_data]   Package punkt is already up-to-date!\n"
     ]
    },
    {
     "data": {
      "text/plain": [
       "True"
      ]
     },
     "execution_count": 52,
     "metadata": {},
     "output_type": "execute_result"
    }
   ],
   "source": [
    "import pandas as pd\n",
    "import csv\n",
    "import numpy as np\n",
    "import string\n",
    "\n",
    "import nltk\n",
    "from nltk.corpus import stopwords\n",
    "from nltk.tokenize import word_tokenize\n",
    "from nltk.stem import WordNetLemmatizer\n",
    "from sklearn.model_selection import train_test_split\n",
    "from sklearn.feature_extraction.text import TfidfVectorizer\n",
    "from sklearn.ensemble import RandomForestClassifier\n",
    "from sklearn.metrics import accuracy_score, classification_report, roc_auc_score, mean_squared_error, precision_score, recall_score, f1_score, roc_curve, auc\n",
    "from sklearn.preprocessing import LabelEncoder\n",
    "from sklearn.compose import ColumnTransformer\n",
    "from sklearn.pipeline import Pipeline\n",
    "from scipy.sparse import hstack\n",
    "\n",
    "nltk.download('stopwords')\n",
    "nltk.download('wordnet')\n",
    "nltk.download('punkt')"
   ]
  },
  {
   "cell_type": "markdown",
   "id": "e6a963e7",
   "metadata": {},
   "source": [
    "## Data Analysis and Pre-processing"
   ]
  },
  {
   "cell_type": "code",
   "execution_count": 3,
   "id": "cc16868d-b44d-4e63-a845-01e38820c5eb",
   "metadata": {
    "tags": []
   },
   "outputs": [
    {
     "data": {
      "text/html": [
       "<div>\n",
       "<style scoped>\n",
       "    .dataframe tbody tr th:only-of-type {\n",
       "        vertical-align: middle;\n",
       "    }\n",
       "\n",
       "    .dataframe tbody tr th {\n",
       "        vertical-align: top;\n",
       "    }\n",
       "\n",
       "    .dataframe thead th {\n",
       "        text-align: right;\n",
       "    }\n",
       "</style>\n",
       "<table border=\"1\" class=\"dataframe\">\n",
       "  <thead>\n",
       "    <tr style=\"text-align: right;\">\n",
       "      <th></th>\n",
       "      <th>asin</th>\n",
       "      <th>question</th>\n",
       "      <th>item_name</th>\n",
       "      <th>hours_diff</th>\n",
       "      <th>label</th>\n",
       "    </tr>\n",
       "  </thead>\n",
       "  <tbody>\n",
       "    <tr>\n",
       "      <th>0</th>\n",
       "      <td>B017PICGL0</td>\n",
       "      <td>Are boots cold reliable?</td>\n",
       "      <td>Reebok Work Men's Zigkick RB7005 Work Shoe, Br...</td>\n",
       "      <td>-1.0</td>\n",
       "      <td>Pre</td>\n",
       "    </tr>\n",
       "    <tr>\n",
       "      <th>1</th>\n",
       "      <td>B01HI8YEZS</td>\n",
       "      <td>is the main body rubber or plastic?</td>\n",
       "      <td>3C-Aone Galaxy S5 Case,Mangix Built-in Glass L...</td>\n",
       "      <td>21.0</td>\n",
       "      <td>Pre</td>\n",
       "    </tr>\n",
       "    <tr>\n",
       "      <th>2</th>\n",
       "      <td>B07GZ1LF4R</td>\n",
       "      <td>Do you know the thread pitch/count for the tang?</td>\n",
       "      <td>ColdLand |14.00\" Hand Forged Damascus Steel Bl...</td>\n",
       "      <td>166.0</td>\n",
       "      <td>Post</td>\n",
       "    </tr>\n",
       "    <tr>\n",
       "      <th>3</th>\n",
       "      <td>B07BMNPRFN</td>\n",
       "      <td>The item ordered came tarnished and my son nee...</td>\n",
       "      <td>BEICHUANG Beidou 7 Stars Big Dipper Star Penda...</td>\n",
       "      <td>116.0</td>\n",
       "      <td>Post</td>\n",
       "    </tr>\n",
       "    <tr>\n",
       "      <th>4</th>\n",
       "      <td>B075QQKFK3</td>\n",
       "      <td>\"I purchased these and now they look weird wit...</td>\n",
       "      <td>Alla Lighting H8 H11 LED Bulbs Xtreme Super Br...</td>\n",
       "      <td>1021.0</td>\n",
       "      <td>Post</td>\n",
       "    </tr>\n",
       "  </tbody>\n",
       "</table>\n",
       "</div>"
      ],
      "text/plain": [
       "         asin                                           question  \\\n",
       "0  B017PICGL0                           Are boots cold reliable?   \n",
       "1  B01HI8YEZS                is the main body rubber or plastic?   \n",
       "2  B07GZ1LF4R   Do you know the thread pitch/count for the tang?   \n",
       "3  B07BMNPRFN  The item ordered came tarnished and my son nee...   \n",
       "4  B075QQKFK3  \"I purchased these and now they look weird wit...   \n",
       "\n",
       "                                           item_name  hours_diff label  \n",
       "0  Reebok Work Men's Zigkick RB7005 Work Shoe, Br...        -1.0   Pre  \n",
       "1  3C-Aone Galaxy S5 Case,Mangix Built-in Glass L...        21.0   Pre  \n",
       "2  ColdLand |14.00\" Hand Forged Damascus Steel Bl...       166.0  Post  \n",
       "3  BEICHUANG Beidou 7 Stars Big Dipper Star Penda...       116.0  Post  \n",
       "4  Alla Lighting H8 H11 LED Bulbs Xtreme Super Br...      1021.0  Post  "
      ]
     },
     "execution_count": 3,
     "metadata": {},
     "output_type": "execute_result"
    }
   ],
   "source": [
    "df = pd.read_csv(\"PrePostQuestions.csv\")\n",
    "df.head()"
   ]
  },
  {
   "cell_type": "code",
   "execution_count": 4,
   "id": "80d13f50-c7b3-4bb3-a6b6-53032854f815",
   "metadata": {
    "tags": []
   },
   "outputs": [
    {
     "data": {
      "text/plain": [
       "asin\n",
       "0006446469    1\n",
       "0303532572    1\n",
       "0439499852    1\n",
       "0528960911    1\n",
       "0545703212    1\n",
       "             ..\n",
       "B088C1Y5K6    1\n",
       "B088C5SJLK    1\n",
       "B088CXT3T3    1\n",
       "B088F53RSB    1\n",
       "B088FLBQ97    1\n",
       "Name: asin, Length: 199884, dtype: int64"
      ]
     },
     "execution_count": 4,
     "metadata": {},
     "output_type": "execute_result"
    }
   ],
   "source": [
    "df.groupby(\"asin\")['asin'].count()"
   ]
  },
  {
   "cell_type": "code",
   "execution_count": 5,
   "id": "f52441ed-f89b-47cb-8e61-c4d23d77bd6f",
   "metadata": {
    "tags": []
   },
   "outputs": [
    {
     "data": {
      "text/plain": [
       "label\n",
       "Post    2352.330545\n",
       "Pre     -207.547994\n",
       "Name: hours_diff, dtype: float64"
      ]
     },
     "execution_count": 5,
     "metadata": {},
     "output_type": "execute_result"
    }
   ],
   "source": [
    "df.groupby(\"label\")['hours_diff'].mean()"
   ]
  },
  {
   "cell_type": "code",
   "execution_count": 6,
   "id": "cc79f184-e985-4dfa-b285-5f1116bd2710",
   "metadata": {
    "tags": []
   },
   "outputs": [
    {
     "data": {
      "text/html": [
       "<div>\n",
       "<style scoped>\n",
       "    .dataframe tbody tr th:only-of-type {\n",
       "        vertical-align: middle;\n",
       "    }\n",
       "\n",
       "    .dataframe tbody tr th {\n",
       "        vertical-align: top;\n",
       "    }\n",
       "\n",
       "    .dataframe thead th {\n",
       "        text-align: right;\n",
       "    }\n",
       "</style>\n",
       "<table border=\"1\" class=\"dataframe\">\n",
       "  <thead>\n",
       "    <tr style=\"text-align: right;\">\n",
       "      <th></th>\n",
       "      <th>asin</th>\n",
       "      <th>question</th>\n",
       "      <th>item_name</th>\n",
       "      <th>hours_diff</th>\n",
       "      <th>label</th>\n",
       "      <th>days_diff</th>\n",
       "    </tr>\n",
       "  </thead>\n",
       "  <tbody>\n",
       "    <tr>\n",
       "      <th>0</th>\n",
       "      <td>B017PICGL0</td>\n",
       "      <td>Are boots cold reliable?</td>\n",
       "      <td>Reebok Work Men's Zigkick RB7005 Work Shoe, Br...</td>\n",
       "      <td>-1.0</td>\n",
       "      <td>Pre</td>\n",
       "      <td>-1.0</td>\n",
       "    </tr>\n",
       "    <tr>\n",
       "      <th>1</th>\n",
       "      <td>B01HI8YEZS</td>\n",
       "      <td>is the main body rubber or plastic?</td>\n",
       "      <td>3C-Aone Galaxy S5 Case,Mangix Built-in Glass L...</td>\n",
       "      <td>21.0</td>\n",
       "      <td>Pre</td>\n",
       "      <td>0.0</td>\n",
       "    </tr>\n",
       "    <tr>\n",
       "      <th>2</th>\n",
       "      <td>B07GZ1LF4R</td>\n",
       "      <td>Do you know the thread pitch/count for the tang?</td>\n",
       "      <td>ColdLand |14.00\" Hand Forged Damascus Steel Bl...</td>\n",
       "      <td>166.0</td>\n",
       "      <td>Post</td>\n",
       "      <td>6.0</td>\n",
       "    </tr>\n",
       "    <tr>\n",
       "      <th>3</th>\n",
       "      <td>B07BMNPRFN</td>\n",
       "      <td>The item ordered came tarnished and my son nee...</td>\n",
       "      <td>BEICHUANG Beidou 7 Stars Big Dipper Star Penda...</td>\n",
       "      <td>116.0</td>\n",
       "      <td>Post</td>\n",
       "      <td>4.0</td>\n",
       "    </tr>\n",
       "    <tr>\n",
       "      <th>4</th>\n",
       "      <td>B075QQKFK3</td>\n",
       "      <td>\"I purchased these and now they look weird wit...</td>\n",
       "      <td>Alla Lighting H8 H11 LED Bulbs Xtreme Super Br...</td>\n",
       "      <td>1021.0</td>\n",
       "      <td>Post</td>\n",
       "      <td>42.0</td>\n",
       "    </tr>\n",
       "  </tbody>\n",
       "</table>\n",
       "</div>"
      ],
      "text/plain": [
       "         asin                                           question  \\\n",
       "0  B017PICGL0                           Are boots cold reliable?   \n",
       "1  B01HI8YEZS                is the main body rubber or plastic?   \n",
       "2  B07GZ1LF4R   Do you know the thread pitch/count for the tang?   \n",
       "3  B07BMNPRFN  The item ordered came tarnished and my son nee...   \n",
       "4  B075QQKFK3  \"I purchased these and now they look weird wit...   \n",
       "\n",
       "                                           item_name  hours_diff label  \\\n",
       "0  Reebok Work Men's Zigkick RB7005 Work Shoe, Br...        -1.0   Pre   \n",
       "1  3C-Aone Galaxy S5 Case,Mangix Built-in Glass L...        21.0   Pre   \n",
       "2  ColdLand |14.00\" Hand Forged Damascus Steel Bl...       166.0  Post   \n",
       "3  BEICHUANG Beidou 7 Stars Big Dipper Star Penda...       116.0  Post   \n",
       "4  Alla Lighting H8 H11 LED Bulbs Xtreme Super Br...      1021.0  Post   \n",
       "\n",
       "   days_diff  \n",
       "0       -1.0  \n",
       "1        0.0  \n",
       "2        6.0  \n",
       "3        4.0  \n",
       "4       42.0  "
      ]
     },
     "execution_count": 6,
     "metadata": {},
     "output_type": "execute_result"
    }
   ],
   "source": [
    "# Convert hrs to days\n",
    "df['days_diff'] = df['hours_diff'] // 24\n",
    "# write case for -1\n",
    "# df['days_diff'] = \n",
    "df.head()"
   ]
  },
  {
   "cell_type": "code",
   "execution_count": 7,
   "id": "d2190ed2-0bae-4887-b60a-935c91a6dcd3",
   "metadata": {
    "tags": []
   },
   "outputs": [],
   "source": [
    "# Rows where item_name is empty\n",
    "df[df['item_name'].isnull() == True]\n",
    "\n",
    "# Fill it with no item\n",
    "df['item_name'].fillna(\"No Item\", inplace=True)"
   ]
  },
  {
   "cell_type": "code",
   "execution_count": 8,
   "id": "47ad2b28-114b-40b9-b2f5-19c5798f77a8",
   "metadata": {
    "tags": []
   },
   "outputs": [
    {
     "data": {
      "text/html": [
       "<div>\n",
       "<style scoped>\n",
       "    .dataframe tbody tr th:only-of-type {\n",
       "        vertical-align: middle;\n",
       "    }\n",
       "\n",
       "    .dataframe tbody tr th {\n",
       "        vertical-align: top;\n",
       "    }\n",
       "\n",
       "    .dataframe thead th {\n",
       "        text-align: right;\n",
       "    }\n",
       "</style>\n",
       "<table border=\"1\" class=\"dataframe\">\n",
       "  <thead>\n",
       "    <tr style=\"text-align: right;\">\n",
       "      <th></th>\n",
       "      <th>asin</th>\n",
       "      <th>question</th>\n",
       "      <th>item_name</th>\n",
       "      <th>hours_diff</th>\n",
       "      <th>label</th>\n",
       "      <th>days_diff</th>\n",
       "    </tr>\n",
       "  </thead>\n",
       "  <tbody>\n",
       "  </tbody>\n",
       "</table>\n",
       "</div>"
      ],
      "text/plain": [
       "Empty DataFrame\n",
       "Columns: [asin, question, item_name, hours_diff, label, days_diff]\n",
       "Index: []"
      ]
     },
     "execution_count": 8,
     "metadata": {},
     "output_type": "execute_result"
    }
   ],
   "source": [
    "df[df['item_name'].isnull() == True]"
   ]
  },
  {
   "cell_type": "code",
   "execution_count": 13,
   "id": "f1f4c1d6-fb6b-4432-8de7-462524bb3ce9",
   "metadata": {
    "tags": []
   },
   "outputs": [],
   "source": [
    "def process_text(text):\n",
    "    stop_words = set(stopwords.words('english'))\n",
    "    translator = str.maketrans('', '', string.punctuation)\n",
    "    lemmatizer = WordNetLemmatizer()\n",
    "    \n",
    "    # Tokenize the text\n",
    "    word_tokens = word_tokenize(text)\n",
    "    \n",
    "    # Remove stopwords and punctuations, and perform lemmatization excluding words ending with -ing\n",
    "    filtered_text = [lemmatizer.lemmatize(word.translate(translator).lower()) if not word.lower().endswith('ing') else word.translate(translator).lower() for word in word_tokens if word.lower() not in stop_words]\n",
    "    \n",
    "    return ' '.join(filtered_text)"
   ]
  },
  {
   "cell_type": "code",
   "execution_count": 18,
   "id": "90e0e38f-7ac6-4369-9203-9cad8bb47ac7",
   "metadata": {
    "tags": []
   },
   "outputs": [],
   "source": [
    "df['question'] = df['question'].apply(process_text)\n",
    "df['item_name'] = df['item_name'].apply(process_text)"
   ]
  },
  {
   "cell_type": "code",
   "execution_count": 25,
   "id": "f4b625ed-dec6-459a-ac9e-e46e4a668097",
   "metadata": {
    "tags": []
   },
   "outputs": [
    {
     "data": {
      "text/html": [
       "<div>\n",
       "<style scoped>\n",
       "    .dataframe tbody tr th:only-of-type {\n",
       "        vertical-align: middle;\n",
       "    }\n",
       "\n",
       "    .dataframe tbody tr th {\n",
       "        vertical-align: top;\n",
       "    }\n",
       "\n",
       "    .dataframe thead th {\n",
       "        text-align: right;\n",
       "    }\n",
       "</style>\n",
       "<table border=\"1\" class=\"dataframe\">\n",
       "  <thead>\n",
       "    <tr style=\"text-align: right;\">\n",
       "      <th></th>\n",
       "      <th>asin</th>\n",
       "      <th>question</th>\n",
       "      <th>item_name</th>\n",
       "      <th>hours_diff</th>\n",
       "      <th>label</th>\n",
       "      <th>days_diff</th>\n",
       "    </tr>\n",
       "  </thead>\n",
       "  <tbody>\n",
       "    <tr>\n",
       "      <th>0</th>\n",
       "      <td>B017PICGL0</td>\n",
       "      <td>boot cold reliable</td>\n",
       "      <td>reebok work men s zigkick rb7005 work shoe  br...</td>\n",
       "      <td>-1.0</td>\n",
       "      <td>1</td>\n",
       "      <td>-1.0</td>\n",
       "    </tr>\n",
       "    <tr>\n",
       "      <th>1</th>\n",
       "      <td>B01HI8YEZS</td>\n",
       "      <td>main body rubber plastic</td>\n",
       "      <td>3caone galaxy s5 case  mangix builtin glass lu...</td>\n",
       "      <td>21.0</td>\n",
       "      <td>1</td>\n",
       "      <td>0.0</td>\n",
       "    </tr>\n",
       "    <tr>\n",
       "      <th>2</th>\n",
       "      <td>B07GZ1LF4R</td>\n",
       "      <td>know thread pitchcount tang</td>\n",
       "      <td>coldland 1400  hand forged damascus steel blan...</td>\n",
       "      <td>166.0</td>\n",
       "      <td>0</td>\n",
       "      <td>6.0</td>\n",
       "    </tr>\n",
       "    <tr>\n",
       "      <th>3</th>\n",
       "      <td>B07BMNPRFN</td>\n",
       "      <td>item ordered came tarnished son needed wednesd...</td>\n",
       "      <td>beichuang beidou 7 star big dipper star pendan...</td>\n",
       "      <td>116.0</td>\n",
       "      <td>0</td>\n",
       "      <td>4.0</td>\n",
       "    </tr>\n",
       "    <tr>\n",
       "      <th>4</th>\n",
       "      <td>B075QQKFK3</td>\n",
       "      <td>purchased look weird stock headlight  headlig...</td>\n",
       "      <td>alla lighting h8 h11 led bulb xtreme super bri...</td>\n",
       "      <td>1021.0</td>\n",
       "      <td>0</td>\n",
       "      <td>42.0</td>\n",
       "    </tr>\n",
       "  </tbody>\n",
       "</table>\n",
       "</div>"
      ],
      "text/plain": [
       "         asin                                           question  \\\n",
       "0  B017PICGL0                                boot cold reliable    \n",
       "1  B01HI8YEZS                          main body rubber plastic    \n",
       "2  B07GZ1LF4R                       know thread pitchcount tang    \n",
       "3  B07BMNPRFN  item ordered came tarnished son needed wednesd...   \n",
       "4  B075QQKFK3   purchased look weird stock headlight  headlig...   \n",
       "\n",
       "                                           item_name  hours_diff  label  \\\n",
       "0  reebok work men s zigkick rb7005 work shoe  br...        -1.0      1   \n",
       "1  3caone galaxy s5 case  mangix builtin glass lu...        21.0      1   \n",
       "2  coldland 1400  hand forged damascus steel blan...       166.0      0   \n",
       "3  beichuang beidou 7 star big dipper star pendan...       116.0      0   \n",
       "4  alla lighting h8 h11 led bulb xtreme super bri...      1021.0      0   \n",
       "\n",
       "   days_diff  \n",
       "0       -1.0  \n",
       "1        0.0  \n",
       "2        6.0  \n",
       "3        4.0  \n",
       "4       42.0  "
      ]
     },
     "execution_count": 25,
     "metadata": {},
     "output_type": "execute_result"
    }
   ],
   "source": [
    "df.head()"
   ]
  },
  {
   "cell_type": "markdown",
   "id": "5d60dbe9",
   "metadata": {},
   "source": [
    "## Data Vectorization"
   ]
  },
  {
   "cell_type": "code",
   "execution_count": 20,
   "id": "ee2f9404",
   "metadata": {},
   "outputs": [
    {
     "data": {
      "text/plain": [
       "label\n",
       "Pre     134215\n",
       "Post     98277\n",
       "Name: count, dtype: int64"
      ]
     },
     "execution_count": 20,
     "metadata": {},
     "output_type": "execute_result"
    }
   ],
   "source": [
    "# Value counts \n",
    "df['label'].value_counts()"
   ]
  },
  {
   "cell_type": "code",
   "execution_count": 24,
   "id": "4e6b5eed",
   "metadata": {},
   "outputs": [],
   "source": [
    "label_encoder = LabelEncoder()\n",
    "df['label'] = label_encoder.fit_transform(df['label'])"
   ]
  },
  {
   "cell_type": "code",
   "execution_count": 48,
   "id": "c35286c3",
   "metadata": {},
   "outputs": [],
   "source": [
    "# Split data into features (X) and labels (y)\n",
    "X_text = df[['question', 'item_name']]\n",
    "X_numeric = df[['hours_diff']]\n",
    "y = df['label']\n",
    "\n",
    "# Split data into training and testing sets\n",
    "X_text_train, X_text_test, X_numeric_train, X_numeric_test, y_train, y_test = train_test_split(\n",
    "    X_text, X_numeric, y, test_size=0.2, random_state=42\n",
    ")\n"
   ]
  },
  {
   "cell_type": "code",
   "execution_count": 49,
   "id": "a852961a-9e50-4466-bb72-773d1e7168b6",
   "metadata": {
    "tags": []
   },
   "outputs": [],
   "source": [
    "# Text vectorization\n",
    "text_vectorizer = TfidfVectorizer()\n",
    "X_text_train_tfidf = text_vectorizer.fit_transform(X_text_train['question'] + ' ' + X_text_train['item_name'])\n",
    "X_text_test_tfidf = text_vectorizer.transform(X_text_test['question'] + ' ' + X_text_test['item_name'])\n",
    "\n",
    "# Combine text and numeric features\n",
    "X_train = hstack([X_text_train_tfidf, X_numeric_train])\n",
    "X_test = hstack([X_text_test_tfidf, X_numeric_test])"
   ]
  },
  {
   "cell_type": "markdown",
   "id": "c5c05824",
   "metadata": {},
   "source": [
    "## Data Modeling \n",
    "\n",
    "Predictig whether the question is a pre purchase question or post purchase question"
   ]
  },
  {
   "cell_type": "code",
   "execution_count": 50,
   "id": "7108a0da-fd5a-4dd8-8d22-c11f20be7a27",
   "metadata": {
    "tags": []
   },
   "outputs": [],
   "source": [
    "# Model training\n",
    "classifier = RandomForestClassifier(random_state=42)\n",
    "classifier.fit(X_train, y_train)\n",
    "\n",
    "# Model prediction\n",
    "y_pred = classifier.predict(X_test)\n",
    "\n",
    "# Evaluate the model\n",
    "accuracy = accuracy_score(y_test, y_pred)\n",
    "classification_rep = classification_report(y_test, y_pred)\n"
   ]
  },
  {
   "cell_type": "code",
   "execution_count": 51,
   "id": "a1b6d151-65ee-4c1f-b24c-e118b7de7dd1",
   "metadata": {},
   "outputs": [
    {
     "name": "stdout",
     "output_type": "stream",
     "text": [
      "Accuracy: 0.99\n",
      "Classification Report:\n",
      "               precision    recall  f1-score   support\n",
      "\n",
      "           0       0.98      0.99      0.99     19628\n",
      "           1       1.00      0.99      0.99     26871\n",
      "\n",
      "    accuracy                           0.99     46499\n",
      "   macro avg       0.99      0.99      0.99     46499\n",
      "weighted avg       0.99      0.99      0.99     46499\n",
      "\n"
     ]
    }
   ],
   "source": [
    "print(f\"Accuracy: {accuracy:.2f}\")\n",
    "print(\"Classification Report:\\n\", classification_rep)"
   ]
  },
  {
   "cell_type": "code",
   "execution_count": 54,
   "id": "4420313c",
   "metadata": {},
   "outputs": [],
   "source": [
    "y_prob = classifier.predict_proba(X_test)[:, 1]"
   ]
  },
  {
   "cell_type": "code",
   "execution_count": 56,
   "id": "6294b380",
   "metadata": {},
   "outputs": [
    {
     "name": "stderr",
     "output_type": "stream",
     "text": [
      "Matplotlib is building the font cache; this may take a moment.\n"
     ]
    },
    {
     "name": "stdout",
     "output_type": "stream",
     "text": [
      "Accuracy: 0.99\n",
      "Precision: 1.00\n",
      "Recall: 0.99\n",
      "F1 Score: 0.99\n",
      "Mean Squared Error: 0.01\n",
      "ROC AUC Score: 1.00\n",
      "Classification Report:\n",
      "               precision    recall  f1-score   support\n",
      "\n",
      "           0       0.98      0.99      0.99     19628\n",
      "           1       1.00      0.99      0.99     26871\n",
      "\n",
      "    accuracy                           0.99     46499\n",
      "   macro avg       0.99      0.99      0.99     46499\n",
      "weighted avg       0.99      0.99      0.99     46499\n",
      "\n",
      "Classification Report:\n",
      "               precision    recall  f1-score   support\n",
      "\n",
      "           0       0.98      0.99      0.99     19628\n",
      "           1       1.00      0.99      0.99     26871\n",
      "\n",
      "    accuracy                           0.99     46499\n",
      "   macro avg       0.99      0.99      0.99     46499\n",
      "weighted avg       0.99      0.99      0.99     46499\n",
      "\n"
     ]
    },
    {
     "data": {
      "image/png": "[encoded data removed]",
      "text/plain": [
       "<Figure size 800x800 with 1 Axes>"
      ]
     },
     "metadata": {},
     "output_type": "display_data"
    }
   ],
   "source": [
    "import matplotlib.pyplot as plt\n",
    "# Calculate and print various metrics\n",
    "accuracy = accuracy_score(y_test, y_pred)\n",
    "precision = precision_score(y_test, y_pred)\n",
    "recall = recall_score(y_test, y_pred)\n",
    "f1 = f1_score(y_test, y_pred)\n",
    "mse = mean_squared_error(y_test, y_pred)\n",
    "roc_auc = roc_auc_score(y_test, y_prob)\n",
    "\n",
    "\n",
    "print(f\"Accuracy: {accuracy:.2f}\")\n",
    "print(f\"Precision: {precision:.2f}\")\n",
    "print(f\"Recall: {recall:.2f}\")\n",
    "print(f\"F1 Score: {f1:.2f}\")\n",
    "print(f\"Mean Squared Error: {mse:.2f}\")\n",
    "print(f\"ROC AUC Score: {roc_auc:.2f}\")\n",
    "\n",
    "# Classification Report\n",
    "print(\"Classification Report:\\n\", classification_report(y_test, y_pred))\n",
    "\n",
    "\n",
    "print(\"Classification Report:\\n\", classification_report(y_test, y_pred))\n",
    "\n",
    "# ROC Curve\n",
    "fpr, tpr, thresholds = roc_curve(y_test, y_prob)\n",
    "roc_auc = auc(fpr, tpr)\n",
    "\n",
    "plt.figure(figsize=(8, 8))\n",
    "plt.plot(fpr, tpr, color='darkorange', lw=2, label='ROC curve (area = {:.2f})'.format(roc_auc))\n",
    "plt.plot([0, 1], [0, 1], color='navy', lw=2, linestyle='--')\n",
    "plt.xlabel('False Positive Rate')\n",
    "plt.ylabel('True Positive Rate')\n",
    "plt.title('Receiver Operating Characteristic (ROC) Curve')\n",
    "plt.legend(loc=\"lower right\")\n",
    "plt.show()\n"
   ]
  },
  {
   "cell_type": "code",
   "execution_count": null,
   "id": "0e110c04",
   "metadata": {},
   "outputs": [],
   "source": []
  }
 ],
 "metadata": {
  "kernelspec": {
   "display_name": "conda_python3",
   "language": "python",
   "name": "conda_python3"
  },
  "language_info": {
   "codemirror_mode": {
    "name": "ipython",
    "version": 3
   },
   "file_extension": ".py",
   "mimetype": "text/x-python",
   "name": "python",
   "nbconvert_exporter": "python",
   "pygments_lexer": "ipython3",
   "version": "3.10.13"
  }
 },
 "nbformat": 4,
 "nbformat_minor": 5
}
